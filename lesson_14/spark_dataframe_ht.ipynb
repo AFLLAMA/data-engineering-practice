{
 "cells": [
  {
   "cell_type": "code",
   "execution_count": 1,
   "metadata": {
    "collapsed": true
   },
   "outputs": [],
   "source": [
    "from pyspark.sql import SparkSession, functions as F, types as T"
   ]
  },
  {
   "cell_type": "code",
   "execution_count": 2,
   "metadata": {
    "collapsed": false,
    "pycharm": {
     "is_executing": true
    }
   },
   "outputs": [
    {
     "name": "stderr",
     "output_type": "stream",
     "text": [
      "your 131072x1 screen size is bogus. expect trouble\n",
      "24/11/12 20:51:15 WARN Utils: Your hostname, Llama resolves to a loopback address: 127.0.1.1; using 10.255.255.254 instead (on interface lo)\n",
      "24/11/12 20:51:15 WARN Utils: Set SPARK_LOCAL_IP if you need to bind to another address\n",
      "Setting default log level to \"WARN\".\n",
      "To adjust logging level use sc.setLogLevel(newLevel). For SparkR, use setLogLevel(newLevel).\n",
      "24/11/12 20:51:16 WARN NativeCodeLoader: Unable to load native-hadoop library for your platform... using builtin-java classes where applicable\n"
     ]
    }
   ],
   "source": [
    "spark = SparkSession.builder.master('local[*]').getOrCreate()"
   ]
  },
  {
   "cell_type": "code",
   "execution_count": 3,
   "metadata": {
    "collapsed": false
   },
   "outputs": [
    {
     "name": "stdout",
     "output_type": "stream",
     "text": [
      "3.4.1\n"
     ]
    }
   ],
   "source": [
    "print(spark.version)"
   ]
  },
  {
   "cell_type": "code",
   "execution_count": 4,
   "metadata": {
    "collapsed": false
   },
   "outputs": [],
   "source": [
    "actor_df = spark.read.csv('./data/actor.csv', header=True, inferSchema=True)\n",
    "address_df = spark.read.csv('./data/address.csv', header=True, inferSchema=True)\n",
    "category_df = spark.read.csv('./data/category.csv', header=True, inferSchema=True)\n",
    "city_df = spark.read.csv('./data/city.csv', header=True, inferSchema=True)\n",
    "country_df = spark.read.csv('./data/country.csv', header=True, inferSchema=True)\n",
    "customer_df = spark.read.csv('./data/customer.csv', header=True, inferSchema=True)\n",
    "film_df = spark.read.csv('./data/film.csv', header=True, inferSchema=True)\n",
    "film_actor_df = spark.read.csv('./data/film_actor.csv', header=True, inferSchema=True)\n",
    "film_category_df = spark.read.csv('./data/film_category.csv', header=True, inferSchema=True)\n",
    "inventory_df = spark.read.csv('./data/inventory.csv', header=True, inferSchema=True)\n",
    "language_df = spark.read.csv('./data/language.csv', header=True, inferSchema=True)\n",
    "payment_df = spark.read.csv('./data/payment.csv', header=True, inferSchema=True)\n",
    "rental_df = spark.read.csv('./data/rental.csv', header=True, inferSchema=True)\n",
    "staff_df = spark.read.csv('./data/staff.csv', header=True, inferSchema=True)\n",
    "store_df = spark.read.csv('./data/store.csv', header=True, inferSchema=True)"
   ]
  },
  {
   "cell_type": "markdown",
   "metadata": {
    "collapsed": false
   },
   "source": [
    "# Домашнє завдання на тему Spark SQL\n",
    "\n",
    "Задачі з домашнього завдання на SQL потрібно розвʼязати за допомогою Spark SQL DataFrame API.\n",
    "\n",
    "- Дампи таблиць знаходяться в папці `data`. Датафрейми таблиць вже створені в клітинці вище.\n",
    "- Можете створювати стільки нових клітинок, скільки вам необхідно.\n",
    "- Розвʼязок кожної задачі має бути відображений в самому файлі (використати метод `.show()`)\n",
    "- код має бути оформлений у відповідності із одним із стилем, показаним лектором на занятті 13.\n",
    "\n",
    "**Увага!**\n",
    "Використовувати мову запитів SQL безпосередньо забороняється, потрібно використовувати виключно DataFrame API!\n"
   ]
  },
  {
   "cell_type": "markdown",
   "metadata": {
    "collapsed": false
   },
   "source": [
    "1.\n",
    "Вивести кількість фільмів в кожній категорії.\n",
    "Результат відсортувати за спаданням."
   ]
  },
  {
   "cell_type": "code",
   "execution_count": 41,
   "metadata": {
    "collapsed": false
   },
   "outputs": [
    {
     "name": "stdout",
     "output_type": "stream",
     "text": [
      "+-----------+-----+\n",
      "|       name|count|\n",
      "+-----------+-----+\n",
      "|     Sports|   74|\n",
      "|    Foreign|   73|\n",
      "|     Family|   69|\n",
      "|Documentary|   68|\n",
      "|  Animation|   66|\n",
      "|     Action|   64|\n",
      "|        New|   63|\n",
      "|      Drama|   62|\n",
      "|      Games|   61|\n",
      "|     Sci-Fi|   61|\n",
      "|   Children|   60|\n",
      "|     Comedy|   58|\n",
      "|     Travel|   57|\n",
      "|   Classics|   57|\n",
      "|     Horror|   56|\n",
      "|      Music|   51|\n",
      "+-----------+-----+\n",
      "\n"
     ]
    }
   ],
   "source": [
    "film_count = film_df.join(film_category_df, on=\"film_id\", how=\"inner\")\\\n",
    "                    .join(category_df, on=\"category_id\", how=\"inner\")\\\n",
    "                    .groupBy(F.column(\"name\"))\\\n",
    "                    .count()\\\n",
    "                    .orderBy(F.column(\"count\").desc())\n",
    "film_count.show()"
   ]
  },
  {
   "cell_type": "markdown",
   "metadata": {
    "collapsed": false
   },
   "source": [
    "2.\n",
    "Вивести 10 акторів, чиї фільми брали на прокат найбільше.\n",
    "Результат відсортувати за спаданням."
   ]
  },
  {
   "cell_type": "code",
   "execution_count": 22,
   "metadata": {
    "collapsed": false
   },
   "outputs": [
    {
     "name": "stdout",
     "output_type": "stream",
     "text": [
      "+--------+----------+-----------+------------------+\n",
      "|actor_id|first_name|  last_name|        sum_amount|\n",
      "+--------+----------+-----------+------------------+\n",
      "|     107|      GINA|  DEGENERES|3442.4899999999434|\n",
      "|     181|   MATTHEW|     CARREY| 2742.189999999965|\n",
      "|     198|      MARY|     KEITEL| 2689.249999999977|\n",
      "|      81|  SCARLETT|      DAMON|2655.2799999999743|\n",
      "|     102|    WALTER|       TORN| 2620.619999999978|\n",
      "|     144|    ANGELA|WITHERSPOON|2614.4599999999723|\n",
      "|      58| CHRISTIAN|     AKROYD|2611.4899999999802|\n",
      "|      60|     HENRY|      BERRY|2602.8799999999746|\n",
      "|      28|     WOODY|    HOFFMAN|2546.3999999999864|\n",
      "|     111|   CAMERON|  ZELLWEGER| 2529.409999999984|\n",
      "+--------+----------+-----------+------------------+\n",
      "\n"
     ]
    }
   ],
   "source": [
    "top_10_rental_sum_actors = actor_df.join(film_actor_df, on=\"actor_id\", how=\"inner\")\\\n",
    "                                   .join(film_df, on=\"film_id\", how=\"inner\")\\\n",
    "                                   .join(inventory_df, on=\"film_id\", how=\"inner\")\\\n",
    "                                   .join(rental_df, on=\"inventory_id\", how=\"inner\")\\\n",
    "                                   .join(payment_df, on=\"rental_id\", how=\"inner\")\\\n",
    "                                   .groupBy(actor_df[\"actor_id\"], actor_df[\"first_name\"], actor_df[\"last_name\"])\\\n",
    "                                   .sum(\"amount\")\\\n",
    "                                   .withColumnRenamed(\"sum(amount)\", \"sum_amount\")\\\n",
    "                                   .orderBy(F.column(\"sum_amount\").desc())\\\n",
    "                                   .limit(10)\n",
    "top_10_rental_sum_actors.show()"
   ]
  },
  {
   "cell_type": "markdown",
   "metadata": {
    "collapsed": false
   },
   "source": [
    "3.\n",
    "Вивести категорія фільмів, на яку було витрачено найбільше грошей\n",
    "в прокаті"
   ]
  },
  {
   "cell_type": "code",
   "execution_count": 30,
   "metadata": {
    "collapsed": false
   },
   "outputs": [
    {
     "name": "stdout",
     "output_type": "stream",
     "text": [
      "+-----------+------+-----------------+\n",
      "|category_id|  name|       sum_amount|\n",
      "+-----------+------+-----------------+\n",
      "|         15|Sports|5314.209999999843|\n",
      "+-----------+------+-----------------+\n",
      "\n"
     ]
    }
   ],
   "source": [
    "most_money_per_category = film_df.join(film_category_df, on=\"film_id\", how=\"inner\")\\\n",
    "                                 .join(category_df, on=\"category_id\", how=\"inner\")\\\n",
    "                                 .join(inventory_df, on=\"film_id\", how=\"inner\")\\\n",
    "                                 .join(rental_df, on=\"inventory_id\", how=\"inner\")\\\n",
    "                                 .join(payment_df, on=\"rental_id\", how=\"inner\")\\\n",
    "                                 .groupBy(category_df[\"category_id\"], category_df[\"name\"])\\\n",
    "                                 .sum(\"amount\")\\\n",
    "                                 .withColumnRenamed(\"sum(amount)\", \"sum_amount\")\\\n",
    "                                 .orderBy(F.column(\"sum_amount\").desc())\\\n",
    "                                 .limit(1)\n",
    "most_money_per_category.show()"
   ]
  },
  {
   "cell_type": "markdown",
   "metadata": {
    "collapsed": false
   },
   "source": [
    "4.\n",
    "Вивести назви фільмів, яких не має в inventory."
   ]
  },
  {
   "cell_type": "code",
   "execution_count": 34,
   "metadata": {
    "collapsed": false
   },
   "outputs": [
    {
     "name": "stdout",
     "output_type": "stream",
     "text": [
      "+--------------------+\n",
      "|               title|\n",
      "+--------------------+\n",
      "|      ALICE FANTASIA|\n",
      "|         APOLLO TEEN|\n",
      "|      ARGONAUTS TOWN|\n",
      "|       ARK RIDGEMONT|\n",
      "|ARSENIC INDEPENDENCE|\n",
      "|   BOONDOCK BALLROOM|\n",
      "|       BUTCH PANTHER|\n",
      "|       CATCH AMISTAD|\n",
      "| CHINATOWN GLADIATOR|\n",
      "|      CHOCOLATE DUCK|\n",
      "|COMMANDMENTS EXPRESS|\n",
      "|    CROSSING DIVORCE|\n",
      "|     CROWDS TELEMARK|\n",
      "|    CRYSTAL BREAKING|\n",
      "|          DAZED PUNK|\n",
      "|DELIVERANCE MULHO...|\n",
      "|   FIREHOUSE VIETNAM|\n",
      "|       FLOATS GARDEN|\n",
      "|FRANKENSTEIN STRA...|\n",
      "|  GLADIATOR WESTWARD|\n",
      "+--------------------+\n",
      "only showing top 20 rows\n",
      "\n"
     ]
    }
   ],
   "source": [
    "films_no_inventory = film_df.join(inventory_df, on=\"film_id\", how=\"left\")\\\n",
    "                            .where(F.column(\"inventory_id\").isNull())\\\n",
    "                            .select(\"title\")\n",
    "films_no_inventory.show()"
   ]
  },
  {
   "cell_type": "markdown",
   "metadata": {
    "collapsed": false
   },
   "source": [
    "5.\n",
    "Вивести топ 3 актори, які найбільше зʼявлялись в категорії фільмів “Children”"
   ]
  },
  {
   "cell_type": "code",
   "execution_count": 40,
   "metadata": {
    "collapsed": false
   },
   "outputs": [
    {
     "name": "stdout",
     "output_type": "stream",
     "text": [
      "+----------+---------+-----+\n",
      "|first_name|last_name|count|\n",
      "+----------+---------+-----+\n",
      "|     HELEN|   VOIGHT|    7|\n",
      "|     KEVIN|  GARLAND|    5|\n",
      "|    WHOOPI|     HURT|    5|\n",
      "+----------+---------+-----+\n",
      "\n"
     ]
    }
   ],
   "source": [
    "top_3_children_film_actors = actor_df.join(film_actor_df, on=\"actor_id\", how=\"inner\")\\\n",
    "                                     .join(film_df, on=\"film_id\", how=\"inner\")\\\n",
    "                                     .join(film_category_df, on=\"film_id\", how=\"inner\")\\\n",
    "                                     .join(category_df, on=\"category_id\", how=\"inner\")\\\n",
    "                                     .filter(F.column(\"name\") == \"Children\")\\\n",
    "                                     .groupBy(F.column(\"actor_id\"), F.column(\"first_name\"), F.column(\"last_name\"))\\\n",
    "                                     .count()\\\n",
    "                                     .orderBy(F.column(\"count\").desc())\\\n",
    "                                     .select(F.column(\"first_name\"), F.column(\"last_name\"), F.column(\"count\"))\\\n",
    "                                     .limit(3)\n",
    "top_3_children_film_actors.show()"
   ]
  },
  {
   "cell_type": "markdown",
   "metadata": {
    "collapsed": false
   },
   "source": [
    "Stop Spark session:"
   ]
  },
  {
   "cell_type": "code",
   "execution_count": 42,
   "metadata": {
    "collapsed": false
   },
   "outputs": [],
   "source": [
    "spark.stop()"
   ]
  }
 ],
 "metadata": {
  "kernelspec": {
   "display_name": "Python 3",
   "language": "python",
   "name": "python3"
  },
  "language_info": {
   "codemirror_mode": {
    "name": "ipython",
    "version": 3
   },
   "file_extension": ".py",
   "mimetype": "text/x-python",
   "name": "python",
   "nbconvert_exporter": "python",
   "pygments_lexer": "ipython3",
   "version": "3.12.6"
  }
 },
 "nbformat": 4,
 "nbformat_minor": 0
}
